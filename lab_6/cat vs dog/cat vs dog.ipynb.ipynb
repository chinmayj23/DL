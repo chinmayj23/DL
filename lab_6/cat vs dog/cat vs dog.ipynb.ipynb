{
 "cells": [
  {
   "cell_type": "code",
   "execution_count": 1,
   "metadata": {
    "_cell_guid": "b1076dfc-b9ad-4769-8c92-a6c4dae69d19",
    "_uuid": "8f2839f25d086af736a60e9eeb907d3b93b6e0e5"
   },
   "outputs": [
    {
     "ename": "ImportError",
     "evalue": "cannot import name 'spline' from 'scipy.interpolate' (c:\\users\\voraa\\appdata\\local\\programs\\python\\python37\\lib\\site-packages\\scipy\\interpolate\\__init__.py)",
     "output_type": "error",
     "traceback": [
      "\u001b[1;31m---------------------------------------------------------------------------\u001b[0m",
      "\u001b[1;31mImportError\u001b[0m                               Traceback (most recent call last)",
      "\u001b[1;32m<ipython-input-1-4a1fd09f7bd2>\u001b[0m in \u001b[0;36m<module>\u001b[1;34m\u001b[0m\n\u001b[0;32m     12\u001b[0m \u001b[1;32mfrom\u001b[0m \u001b[0mkeras\u001b[0m\u001b[1;33m.\u001b[0m\u001b[0moptimizers\u001b[0m \u001b[1;32mimport\u001b[0m \u001b[0mSGD\u001b[0m\u001b[1;33m\u001b[0m\u001b[1;33m\u001b[0m\u001b[0m\n\u001b[0;32m     13\u001b[0m \u001b[1;32mimport\u001b[0m \u001b[0mtensorflow\u001b[0m\u001b[1;33m\u001b[0m\u001b[1;33m\u001b[0m\u001b[0m\n\u001b[1;32m---> 14\u001b[1;33m \u001b[1;32mfrom\u001b[0m \u001b[0mscipy\u001b[0m\u001b[1;33m.\u001b[0m\u001b[0minterpolate\u001b[0m \u001b[1;32mimport\u001b[0m \u001b[0mspline\u001b[0m\u001b[1;33m\u001b[0m\u001b[1;33m\u001b[0m\u001b[0m\n\u001b[0m\u001b[0;32m     15\u001b[0m \u001b[1;32mimport\u001b[0m \u001b[0mpandas\u001b[0m \u001b[1;32mas\u001b[0m \u001b[0mpd\u001b[0m\u001b[1;33m\u001b[0m\u001b[1;33m\u001b[0m\u001b[0m\n\u001b[0;32m     16\u001b[0m \u001b[1;32mimport\u001b[0m \u001b[0mmatplotlib\u001b[0m\u001b[1;33m.\u001b[0m\u001b[0mpyplot\u001b[0m \u001b[1;32mas\u001b[0m \u001b[0mplt\u001b[0m\u001b[1;33m\u001b[0m\u001b[1;33m\u001b[0m\u001b[0m\n",
      "\u001b[1;31mImportError\u001b[0m: cannot import name 'spline' from 'scipy.interpolate' (c:\\users\\voraa\\appdata\\local\\programs\\python\\python37\\lib\\site-packages\\scipy\\interpolate\\__init__.py)"
     ]
    }
   ],
   "source": [
    "import os\n",
    "import sys\n",
    "import datetime\n",
    "import glob as glob\n",
    "import numpy as np\n",
    "import cv2\n",
    "import keras\n",
    "from keras.applications.vgg16 import VGG16, preprocess_input\n",
    "from keras.models import Model\n",
    "from keras.layers import Dense, GlobalAveragePooling2D\n",
    "from keras.preprocessing.image import ImageDataGenerator, array_to_img, img_to_array, load_img\n",
    "from keras.optimizers import SGD\n",
    "import tensorflow\n",
    "from scipy.interpolate import spline\n",
    "import pandas as pd\n",
    "import matplotlib.pyplot as plt\n",
    "%matplotlib inline"
   ]
  },
  {
   "cell_type": "code",
   "execution_count": null,
   "metadata": {
    "_cell_guid": "79c7e3d0-c299-4dcb-8224-4455121ee9b0",
    "_uuid": "d629ff2d2480ee46fbb7e2d37f6b5fab8052498a"
   },
   "outputs": [],
   "source": [
    "keras.__version__"
   ]
  },
  {
   "cell_type": "code",
   "execution_count": null,
   "metadata": {
    "_uuid": "34c771b9e0a8cd330f0e085642762640b89f7410"
   },
   "outputs": [],
   "source": [
    "tensorflow.__version__"
   ]
  },
  {
   "cell_type": "code",
   "execution_count": null,
   "metadata": {
    "_uuid": "7a458f418c71c745a638bf98ff96eb663422caa2"
   },
   "outputs": [],
   "source": [
    "datagen = ImageDataGenerator(\n",
    "    rotation_range = 20,\n",
    "    width_shift_range = 0.2,\n",
    "    height_shift_range = 0.2,\n",
    "    shear_range = 0.2,\n",
    "    zoom_range = 0.2,\n",
    "    horizontal_flip = True,\n",
    "    fill_mode = 'nearest')"
   ]
  },
  {
   "cell_type": "code",
   "execution_count": null,
   "metadata": {
    "_uuid": "86bfdd91c20ec52fc0b841e7cd8f439ed0b17c14"
   },
   "outputs": [],
   "source": [
    "img = load_img('../input/cat-and-dog/training_set/training_set/cats/cat.1.jpg')\n",
    "plt.figure(figsize = (3,3))\n",
    "plt.imshow(img)\n",
    "plt.axis('off')\n",
    "plt.title('Nimesh Cat')\n",
    "plt.show()"
   ]
  },
  {
   "cell_type": "code",
   "execution_count": null,
   "metadata": {
    "_uuid": "eb5f512b3d675704470d6815630f796858822ad6"
   },
   "outputs": [],
   "source": [
    "x = img_to_array(img)\n",
    "x2 = x.reshape((1,) + x.shape)"
   ]
  },
  {
   "cell_type": "code",
   "execution_count": null,
   "metadata": {
    "_uuid": "d5d1d05a8eca038e08e10d6d480a5cb2ef1735ab"
   },
   "outputs": [],
   "source": [
    "i = 0\n",
    "fig = plt.figure(figsize = (6,6))\n",
    "plt.title('Pre-processed')\n",
    "for batch in datagen.flow(x2, batch_size = 1):\n",
    "    i += 1\n",
    "    if i > 9:\n",
    "        break\n",
    "    temp = batch.reshape(x.shape)\n",
    "    plt.subplot(3, 3, i)\n",
    "    plt.imshow(temp.astype('uint8'))\n",
    "    plt.axis('off')\n",
    "plt.show()"
   ]
  },
  {
   "cell_type": "code",
   "execution_count": null,
   "metadata": {
    "_uuid": "1e7cfa35a7ca5f219618e43b1be45efb37cee387"
   },
   "outputs": [],
   "source": [
    "img = load_img('../input/cat-and-dog/training_set/training_set/dogs/dog.1.jpg')\n",
    "plt.figure(figsize = (3,3))\n",
    "plt.imshow(img)\n",
    "plt.axis('off')\n",
    "plt.title('Nimesh Dog')\n",
    "plt.show()"
   ]
  },
  {
   "cell_type": "code",
   "execution_count": null,
   "metadata": {
    "_uuid": "b37f285f923403c1bdebab7763e2d95420060184"
   },
   "outputs": [],
   "source": [
    "# default settings\n",
    "img_width, img_height = 224, 224\n",
    "\n",
    "train_dir = '../input/cat-and-dog/training_set/training_set'\n",
    "validate_dir = '../input/cat-and-dog/test_set/test_set/'\n",
    "nb_epochs = 2\n",
    "batch_size = 1\n",
    "nb_classes = len(glob.glob(train_dir + '/*'))"
   ]
  },
  {
   "cell_type": "code",
   "execution_count": null,
   "metadata": {
    "_uuid": "9c303db59a3a20877418b90e9732cfa4ab0caf62"
   },
   "outputs": [],
   "source": [
    "# get number of images in training directory\n",
    "nb_train_samples = 0\n",
    "for r, dirs, files in os.walk(train_dir):\n",
    "    for dr in dirs:\n",
    "        nb_train_samples += len(glob.glob(os.path.join(r, dr + \"/*\")))\n",
    "print(nb_train_samples)"
   ]
  },
  {
   "cell_type": "code",
   "execution_count": null,
   "metadata": {
    "_uuid": "bb0374d2fdcef13abf2d99749a38e8d76f99f8f6"
   },
   "outputs": [],
   "source": [
    "# get number of images in validation directory\n",
    "nb_validate_samples = 0\n",
    "for r, dirs, files in os.walk(validate_dir):\n",
    "    for dr in dirs:\n",
    "        nb_validate_samples += len(glob.glob(os.path.join(r, dr + \"/*\")))\n",
    "print(nb_validate_samples)"
   ]
  },
  {
   "cell_type": "code",
   "execution_count": null,
   "metadata": {
    "_uuid": "c869ca401136fadad6ea04b7a0d0567cbf5009ba"
   },
   "outputs": [],
   "source": [
    "\n",
    "# data pre-processing for training\n",
    "train_datagen =  ImageDataGenerator(\n",
    "    rescale = 1./255,\n",
    "    rotation_range = 20,\n",
    "    width_shift_range = 0.2,\n",
    "    height_shift_range = 0.2,\n",
    "    shear_range = 0.2,\n",
    "    zoom_range = 0.2,\n",
    "    fill_mode = 'nearest',\n",
    "    horizontal_flip = True)"
   ]
  },
  {
   "cell_type": "code",
   "execution_count": null,
   "metadata": {
    "_uuid": "7e899352175a9a143330658a3cd9b99facb53604"
   },
   "outputs": [],
   "source": [
    "# data pre-processing for validation\n",
    "validate_datagen =  ImageDataGenerator(\n",
    "    rescale = 1./255,\n",
    "    rotation_range = 20,\n",
    "    width_shift_range = 0.2,\n",
    "    height_shift_range = 0.2,\n",
    "    shear_range = 0.2,\n",
    "    zoom_range = 0.2,\n",
    "    fill_mode = 'nearest',\n",
    "    horizontal_flip = True)"
   ]
  },
  {
   "cell_type": "code",
   "execution_count": null,
   "metadata": {
    "_uuid": "178d9471145509bc7ee581c363dae78716a4c744"
   },
   "outputs": [],
   "source": [
    "# generate and store training data\n",
    "train_generator = train_datagen.flow_from_directory(\n",
    "    train_dir,\n",
    "    target_size = (img_width, img_height),\n",
    "    batch_size = batch_size)"
   ]
  },
  {
   "cell_type": "code",
   "execution_count": null,
   "metadata": {
    "_uuid": "55b3b6efa80a7b8034d4875bbd9c4bc345004a03"
   },
   "outputs": [],
   "source": [
    "\n",
    "# generate and store validation data\n",
    "validate_generator = validate_datagen.flow_from_directory(\n",
    "    validate_dir,\n",
    "    target_size = (img_width, img_height),\n",
    "    batch_size = batch_size)"
   ]
  },
  {
   "cell_type": "code",
   "execution_count": null,
   "metadata": {
    "_uuid": "7160d7eb816109a54ca5184fd8191408e8f1632a"
   },
   "outputs": [],
   "source": [
    "# this will copy the pretrained weights to our kernel\n",
    "!mkdir ~/.keras\n",
    "!mkdir ~/.keras/models\n",
    "!cp ../input/keras-pretrained-models/*notop* ~/.keras/models/\n",
    "!cp ../input/keras-pretrained-models/imagenet_class_index.json ~/.keras/models/"
   ]
  },
  {
   "cell_type": "code",
   "execution_count": null,
   "metadata": {
    "_uuid": "cace34f3ad0e3394e0ae6d48eb15cece594cd825"
   },
   "outputs": [],
   "source": [
    "# set up transfer learning on pre-trained ImageNet VGG16 model - remove fully connected layer and replace\n",
    "# with softmax for classifying 10 classes\n",
    "vgg16_model = VGG16(weights = 'imagenet', include_top = False)\n",
    "x = vgg16_model.output\n",
    "x = GlobalAveragePooling2D()(x)\n",
    "x = Dense(1024, activation='relu')(x)\n",
    "predictions = Dense(nb_classes, activation = 'softmax')(x)\n",
    "model = Model(input = vgg16_model.input, output = predictions)"
   ]
  },
  {
   "cell_type": "code",
   "execution_count": null,
   "metadata": {
    "_uuid": "9e5b4a3f2bc79311fe526aa2a393680b37abdaa3"
   },
   "outputs": [],
   "source": [
    "# freeze all layers of the pre-trained model\n",
    "for layer in vgg16_model.layers:\n",
    "    layer.trainable = False"
   ]
  },
  {
   "cell_type": "code",
   "execution_count": null,
   "metadata": {
    "_uuid": "f14f821f56415f7788ba86afd55870e5d8fbc4cf"
   },
   "outputs": [],
   "source": [
    "# compile the new model using a RMSProp optimizer\n",
    "model.compile(optimizer = 'rmsprop',\n",
    "    loss = 'categorical_crossentropy',\n",
    "    metrics = ['accuracy'])"
   ]
  },
  {
   "cell_type": "code",
   "execution_count": null,
   "metadata": {
    "_uuid": "c5f349a5bf0f00a2cbec5cce11fca5279e5861ec"
   },
   "outputs": [],
   "source": [
    "# fit the model, log the results and the training time\n",
    "now = datetime.datetime.now\n",
    "t = now()\n",
    "transfer_learning_history = model.fit_generator(\n",
    "    train_generator,\n",
    "    nb_epoch = nb_epochs,\n",
    "    samples_per_epoch = nb_train_samples,\n",
    "    validation_data = validate_generator,\n",
    "    nb_val_samples = nb_validate_samples,\n",
    "    class_weight='auto')\n",
    "print('Training time: %s' % (now() - t))"
   ]
  },
  {
   "cell_type": "code",
   "execution_count": null,
   "metadata": {
    "_uuid": "095a5d675f4369c9773a883a4e2205270f1019d2"
   },
   "outputs": [],
   "source": [
    "# evaluate the performance the new model and report the results\n",
    "score = model.evaluate_generator(validate_generator, nb_validate_samples/batch_size)\n",
    "print(\"Test Score:\", score[0])\n",
    "print(\"Test Accuracy:\", score[1])"
   ]
  },
  {
   "cell_type": "code",
   "execution_count": null,
   "metadata": {
    "_uuid": "8960f81439c3f940602bb3f4e92a226a3f060c9b"
   },
   "outputs": [],
   "source": [
    "# save transfer learning model for offline prediction purposes\n",
    "model.save('dogsandcat_vgg16_model_tl.h5')"
   ]
  },
  {
   "cell_type": "code",
   "execution_count": null,
   "metadata": {
    "_uuid": "8e79fe61de3369c899311df81d7d54df798b35d4"
   },
   "outputs": [],
   "source": [
    "xfer_acc = transfer_learning_history.history['acc']\n",
    "val_acc = transfer_learning_history.history['val_acc']\n",
    "xfer_loss = transfer_learning_history.history['loss']\n",
    "val_loss = transfer_learning_history.history['val_loss']\n",
    "epochs = range(len(xfer_acc))\n",
    "\n",
    "x = np.array(epochs)\n",
    "y = np.array(xfer_acc)\n",
    "x_smooth = np.linspace(x.min(), x.max(), 500)\n",
    "y_smooth = spline(x, y, x_smooth)\n",
    "plt.plot(x_smooth, y_smooth, 'r-', label = 'Training')\n",
    "\n",
    "x1 = np.array(epochs)\n",
    "y1 = np.array(val_acc)\n",
    "x1_smooth = np.linspace(x1.min(), x1.max(), 500)\n",
    "y1_smooth = spline(x1, y1, x1_smooth)\n",
    "\n",
    "plt.plot(x1_smooth, y1_smooth, 'g-', label = 'Validation')\n",
    "plt.title('Transfer Learning - Training and Validation Accuracy')\n",
    "plt.legend(loc = 'lower left', fontsize = 9)\n",
    "plt.xlabel('Epochs')\n",
    "plt.ylabel('Accuracy')\n",
    "plt.ylim(0,1.05)\n",
    "\n",
    "plt.figure()\n",
    "x = np.array(epochs)\n",
    "y = np.array(xfer_loss)\n",
    "x_smooth = np.linspace(x.min(), x.max(), 500)\n",
    "y_smooth = spline(x, y, x_smooth)\n",
    "plt.plot(x_smooth, y_smooth, 'r-', label = 'Training')\n",
    "\n",
    "x1 = np.array(epochs)\n",
    "y1 = np.array(val_loss)\n",
    "x1_smooth = np.linspace(x1.min(), x1.max(), 500)\n",
    "y1_smooth = spline(x1, y1, x1_smooth)\n",
    "\n",
    "plt.plot(x1_smooth, y1_smooth, 'g-', label = 'Validation')\n",
    "plt.title('Transfer Learning - Training and Validation Loss')\n",
    "plt.legend(loc = 'upper right', fontsize = 9)\n",
    "plt.xlabel('Epochs')\n",
    "plt.ylabel('Loss')\n",
    "plt.ylim(0,max(y1))\n",
    "plt.show()"
   ]
  },
  {
   "cell_type": "code",
   "execution_count": null,
   "metadata": {
    "_uuid": "f4a20feadec64f54681196895feb70bf3d019ddd"
   },
   "outputs": [],
   "source": [
    "validate_generator.total_batches_seen"
   ]
  },
  {
   "cell_type": "code",
   "execution_count": null,
   "metadata": {
    "_uuid": "14c16fff75a6aea0dca627a108cb61119f559fa9"
   },
   "outputs": [],
   "source": [
    "predict_files = glob.glob(\"../input/cat-and-dog/test_set/test_set/cats/*.jpg\")"
   ]
  },
  {
   "cell_type": "code",
   "execution_count": null,
   "metadata": {
    "_uuid": "0ea29365957ffae15cef3753d0fb2cd761b491e5"
   },
   "outputs": [],
   "source": [
    "im = cv2.imread(predict_files[0])\n",
    "im = cv2.cvtColor(im, cv2.COLOR_BGR2RGB)\n",
    "im = cv2.resize(im, (256, 256)).astype(np.float32)\n",
    "im = np.expand_dims(im, axis = 0)/255"
   ]
  },
  {
   "cell_type": "code",
   "execution_count": null,
   "metadata": {
    "_uuid": "313077631287dc87a25fb113ebb1ca3f2489b66b"
   },
   "outputs": [],
   "source": [
    "\n",
    "predictor, image_id = [], []\n",
    "for i in predict_files:\n",
    "    im = cv2.imread(i)\n",
    "    im = cv2.resize(cv2.cvtColor(im, cv2.COLOR_BGR2RGB), (256, 256)).astype(np.float32) / 255.0\n",
    "    im = np.expand_dims(im, axis =0)\n",
    "    outcome = [np.argmax(model.predict(im))]\n",
    "    predictor.extend(list(outcome))\n",
    "    image_id.extend([i.rsplit(\"\\\\\")[-1]])\n"
   ]
  },
  {
   "cell_type": "code",
   "execution_count": null,
   "metadata": {
    "_uuid": "5d19ed403ba48904d7697e7ba51674dd21bd6f3d"
   },
   "outputs": [],
   "source": [
    "final = pd.DataFrame()\n",
    "final[\"id\"] = image_id\n",
    "final[\"Cats\"] = predictor \n",
    "final.head(100)"
   ]
  },
  {
   "cell_type": "code",
   "execution_count": null,
   "metadata": {
    "_uuid": "9c0c68515b341c3e21423331adfa8cff9edba621"
   },
   "outputs": [],
   "source": [
    "classes = train_generator.class_indices\n",
    "classes = {value : key for key, value in classes.items()}"
   ]
  },
  {
   "cell_type": "code",
   "execution_count": null,
   "metadata": {
    "_uuid": "2c974ebcedb12172eda2b2f7074f13d005475c46"
   },
   "outputs": [],
   "source": [
    "final[\"Cats\"] = final[\"Cats\"].apply(lambda x: classes[x])\n",
    "final.head(100)"
   ]
  },
  {
   "cell_type": "code",
   "execution_count": null,
   "metadata": {
    "_uuid": "a1e5aa96010265087dff5374fa7a147fdd38d6a2"
   },
   "outputs": [],
   "source": [
    "final.to_csv(\"csv/dogsandcats_with_pretrained_vgg16_model_tl_test.csv\", index = False)"
   ]
  },
  {
   "cell_type": "code",
   "execution_count": null,
   "metadata": {
    "_uuid": "6fcb6a37f96851c8c39c1107f5de7146a6247b0e"
   },
   "outputs": [],
   "source": []
  },
  {
   "cell_type": "code",
   "execution_count": null,
   "metadata": {},
   "outputs": [],
   "source": []
  }
 ],
 "metadata": {
  "kernelspec": {
   "display_name": "Python 3",
   "language": "python",
   "name": "python3"
  },
  "language_info": {
   "codemirror_mode": {
    "name": "ipython",
    "version": 3
   },
   "file_extension": ".py",
   "mimetype": "text/x-python",
   "name": "python",
   "nbconvert_exporter": "python",
   "pygments_lexer": "ipython3",
   "version": "3.7.3"
  }
 },
 "nbformat": 4,
 "nbformat_minor": 1
}
