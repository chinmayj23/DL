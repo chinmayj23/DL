{
  "nbformat": 4,
  "nbformat_minor": 0,
  "metadata": {
    "colab": {
      "name": "flower_recognition_J079.ipynb",
      "provenance": []
    },
    "kernelspec": {
      "name": "python3",
      "display_name": "Python 3"
    }
  },
  "cells": [
    {
      "cell_type": "code",
      "metadata": {
        "id": "PiIpON8mGeC5"
      },
      "source": [
        "# Ignore  the warnings\n",
        "import warnings\n",
        "warnings.filterwarnings('always')\n",
        "warnings.filterwarnings('ignore')\n",
        "\n",
        "# data visualisation and manipulation\n",
        "import numpy as np\n",
        "import pandas as pd\n",
        "import matplotlib.pyplot as plt\n",
        "from matplotlib import style\n",
        "import seaborn as sns\n",
        " \n",
        "#configure\n",
        "# sets matplotlib to inline and displays graphs below the corressponding cell.\n",
        "%matplotlib inline  \n",
        "style.use('fivethirtyeight')\n",
        "sns.set(style='whitegrid',color_codes=True)\n",
        "\n",
        "#model selection\n",
        "from sklearn.model_selection import train_test_split\n",
        "from sklearn.model_selection import KFold\n",
        "from sklearn.metrics import accuracy_score,precision_score,recall_score,confusion_matrix,roc_curve,roc_auc_score\n",
        "from sklearn.model_selection import GridSearchCV\n",
        "from sklearn.preprocessing import LabelEncoder\n",
        "\n",
        "#preprocess.\n",
        "from keras.preprocessing.image import ImageDataGenerator\n",
        "\n",
        "#dl libraraies\n",
        "from keras import backend as K\n",
        "from keras.models import Sequential\n",
        "from keras.layers import Dense\n",
        "from keras.optimizers import Adam,SGD,Adagrad,Adadelta,RMSprop\n",
        "from keras.utils import to_categorical\n",
        "\n",
        "# specifically for cnn\n",
        "from keras.layers import Dropout, Flatten,Activation\n",
        "from keras.layers import Conv2D, MaxPool2D,MaxPooling2D, BatchNormalization\n",
        " \n",
        "import tensorflow as tf\n",
        "import random as rn\n",
        "\n",
        "# specifically for manipulating zipped images and getting numpy arrays of pixel values of images.\n",
        "import cv2                  \n",
        "import numpy as np  \n",
        "from tqdm import tqdm\n",
        "import os                   \n",
        "from random import shuffle  \n",
        "from zipfile import ZipFile\n",
        "from PIL import Image\n"
      ],
      "execution_count": 24,
      "outputs": []
    },
    {
      "cell_type": "code",
      "metadata": {
        "colab": {
          "base_uri": "https://localhost:8080/"
        },
        "id": "RS2I0TqWMbc4",
        "outputId": "a2dd4de4-0a39-48fc-9bf2-afdf8ecb7f6b"
      },
      "source": [
        "#Getting the dataset\n",
        "!wget http://upscfever.com/datasets/flowers-new.zip\n",
        "#Unzipping the dataset\n",
        "!unzip -q flowers-new.zip #-q is specified to remove the info displayed for each image\n"
      ],
      "execution_count": 15,
      "outputs": [
        {
          "output_type": "stream",
          "text": [
            "y\n",
            "--2020-12-10 06:33:47--  http://upscfever.com/datasets/flowers-new.zip\n",
            "Resolving upscfever.com (upscfever.com)... 104.27.176.133, 172.67.193.2, 104.27.177.133, ...\n",
            "Connecting to upscfever.com (upscfever.com)|104.27.176.133|:80... connected.\n",
            "HTTP request sent, awaiting response... y\n",
            "y\n",
            "y\n",
            "y\n",
            "301 Moved Permanently\n",
            "Location: https://upscfever.com/datasets/flowers-new.zip [following]\n",
            "--2020-12-10 06:33:48--  https://upscfever.com/datasets/flowers-new.zip\n",
            "Connecting to upscfever.com (upscfever.com)|104.27.176.133|:443... connected.\n",
            "HTTP request sent, awaiting response... 200 OK\n",
            "Length: unspecified [application/zip]\n",
            "Saving to: ‘flowers-new.zip.2’\n",
            "\n",
            "flowers-new.zip.2       [          <=>       ]   5.74M  2.78MB/s    in 2.1s    \n",
            "\n",
            "2020-12-10 06:33:51 (2.78 MB/s) - ‘flowers-new.zip.2’ saved [6021364]\n",
            "\n",
            "replace flowers/daisy/100080576_f52e8ee070_n.jpg? [y]es, [n]o, [A]ll, [N]one, [r]ename: y\n",
            "replace flowers/daisy/11642632_1e7627a2cc.jpg? [y]es, [n]o, [A]ll, [N]one, [r]ename: y\n",
            "replace flowers/daisy/15207766_fc2f1d692c_n.jpg? [y]es, [n]o, [A]ll, [N]one, [r]ename: y\n",
            "replace flowers/daisy/21652746_cc379e0eea_m.jpg? [y]es, [n]o, [A]ll, [N]one, [r]ename: y\n",
            "replace flowers/daisy/25360380_1a881a5648.jpg? [y]es, [n]o, [A]ll, [N]one, [r]ename: y\n",
            "replace flowers/daisy/43474673_7bb4465a86.jpg? [y]es, [n]o, [A]ll, [N]one, [r]ename: y\n",
            "replace flowers/daisy/54377391_15648e8d18.jpg? [y]es, [n]o, [A]ll, [N]one, [r]ename: y\n",
            "replace flowers/daisy/5547758_eea9edfd54_n.jpg? [y]es, [n]o, [A]ll, [N]one, [r]ename: y\n",
            "replace flowers/daisy/5673551_01d1ea993e_n.jpg? [y]es, [n]o, [A]ll, [N]one, [r]ename: y\n",
            "replace flowers/daisy/5673728_71b8cb57eb.jpg? [y]es, [n]o, [A]ll, [N]one, [r]ename: y\n",
            "replace flowers/daisy/5794835_d15905c7c8_n.jpg? [y]es, [n]o, [A]ll, [N]one, [r]ename: y\n",
            "replace flowers/daisy/5794839_200acd910c_n.jpg? [y]es, [n]o, [A]ll, [N]one, [r]ename: y\n",
            "replace flowers/daisy/99306615_739eb94b9e_m.jpg? [y]es, [n]o, [A]ll, [N]one, [r]ename: y\n",
            "replace flowers/dandelion/10443973_aeb97513fc_m.jpg? [y]es, [n]o, [A]ll, [N]one, [r]ename: y\n",
            "replace flowers/dandelion/10683189_bd6e371b97.jpg? [y]es, [n]o, [A]ll, [N]one, [r]ename: y\n",
            "replace flowers/dandelion/10919961_0af657c4e8.jpg? [y]es, [n]o, [A]ll, [N]one, [r]ename: y\n",
            "replace flowers/dandelion/11405573_24a8a838cc_n.jpg? [y]es, [n]o, [A]ll, [N]one, [r]ename: y\n",
            "replace flowers/dandelion/11545123_50a340b473_m.jpg? [y]es, [n]o, [A]ll, [N]one, [r]ename: y\n",
            "replace flowers/dandelion/126012913_edf771c564_n.jpg? [y]es, [n]o, [A]ll, [N]one, [r]ename: y\n",
            "replace flowers/dandelion/13290033_ebd7c7abba_n.jpg? [y]es, [n]o, [A]ll, [N]one, [r]ename: y\n",
            "replace flowers/dandelion/13920113_f03e867ea7_m.jpg? [y]es, [n]o, [A]ll, [N]one, [r]ename: y\n",
            "replace flowers/dandelion/14283011_3e7452c5b2_n.jpg? [y]es, [n]o, [A]ll, [N]one, [r]ename: y\n",
            "replace flowers/dandelion/14829055_2a2e646a8f_m.jpg? [y]es, [n]o, [A]ll, [N]one, [r]ename: y\n",
            "replace flowers/dandelion/15987457_49dc11bf4b.jpg? [y]es, [n]o, [A]ll, [N]one, [r]ename: y\n",
            "replace flowers/dandelion/16041975_2f6c1596e5.jpg? [y]es, [n]o, [A]ll, [N]one, [r]ename: y\n",
            "replace flowers/dandelion/16159487_3a6615a565_n.jpg? [y]es, [n]o, [A]ll, [N]one, [r]ename: y\n",
            "replace flowers/dandelion/16987075_9a690a2183.jpg? [y]es, [n]o, [A]ll, [N]one, [r]ename: y\n",
            "replace flowers/dandelion/61242541_a04395e6bc.jpg? [y]es, [n]o, [A]ll, [N]one, [r]ename: y\n",
            "replace flowers/dandelion/62293290_2c463891ff_m.jpg? [y]es, [n]o, [A]ll, [N]one, [r]ename: y\n",
            "replace flowers/dandelion/7355522_b66e5d3078_m.jpg? [y]es, [n]o, [A]ll, [N]one, [r]ename: y\n",
            "replace flowers/dandelion/80846315_d997645bea_n.jpg? [y]es, [n]o, [A]ll, [N]one, [r]ename: y\n",
            "replace flowers/dandelion/8181477_8cb77d2e0f_n.jpg? [y]es, [n]o, [A]ll, [N]one, [r]ename: y\n",
            "replace flowers/dandelion/8223949_2928d3f6f6_n.jpg? [y]es, [n]o, [A]ll, [N]one, [r]ename: y\n",
            "replace flowers/dandelion/8223968_6b51555d2f_n.jpg? [y]es, [n]o, [A]ll, [N]one, [r]ename: y\n",
            "replace flowers/dandelion/8475758_4c861ab268_m.jpg? [y]es, [n]o, [A]ll, [N]one, [r]ename: y\n",
            "replace flowers/dandelion/8475769_3dea463364_m.jpg? [y]es, [n]o, [A]ll, [N]one, [r]ename: y\n",
            "replace flowers/dandelion/8684108_a85764b22d_n.jpg? [y]es, [n]o, [A]ll, [N]one, [r]ename: y\n",
            "replace flowers/dandelion/9818247_e2eac18894.jpg? [y]es, [n]o, [A]ll, [N]one, [r]ename: y\n",
            "replace flowers/dandelion/98992760_53ed1d26a9.jpg? [y]es, [n]o, [A]ll, [N]one, [r]ename: y\n",
            "replace flowers/rose/102501987_3cdb8e5394_n.jpg? [y]es, [n]o, [A]ll, [N]one, [r]ename: y\n",
            "replace flowers/rose/110472418_87b6a3aa98_m.jpg? [y]es, [n]o, [A]ll, [N]one, [r]ename: y\n",
            "replace flowers/rose/118974357_0faa23cce9_n.jpg? [y]es, [n]o, [A]ll, [N]one, [r]ename: y\n",
            "replace flowers/rose/12240303_80d87f77a3_n.jpg? [y]es, [n]o, [A]ll, [N]one, [r]ename: y\n",
            "replace flowers/rose/123128873_546b8b7355_n.jpg? [y]es, [n]o, [A]ll, [N]one, [r]ename: y\n",
            "replace flowers/rose/145862135_ab710de93c_n.jpg? [y]es, [n]o, [A]ll, [N]one, [r]ename: y\n",
            "replace flowers/rose/159079265_d77a9ac920_n.jpg? [y]es, [n]o, [A]ll, [N]one, [r]ename: y\n",
            "replace flowers/rose/160954292_6c2b4fda65_n.jpg? [y]es, [n]o, [A]ll, [N]one, [r]ename: y\n",
            "replace flowers/rose/172311368_49412f881b.jpg? [y]es, [n]o, [A]ll, [N]one, [r]ename: y\n",
            "replace flowers/rose/174109630_3c544b8a2f.jpg? [y]es, [n]o, [A]ll, [N]one, [r]ename: y\n",
            "replace flowers/rose/180613732_3a7aba0b80_n.jpg? [y]es, [n]o, [A]ll, [N]one, [r]ename: y\n",
            "replace flowers/rose/218630974_5646dafc63_m.jpg? [y]es, [n]o, [A]ll, [N]one, [r]ename: y\n",
            "replace flowers/rose/22679076_bdb4c24401_m.jpg? [y]es, [n]o, [A]ll, [N]one, [r]ename: y\n",
            "replace flowers/rose/229488796_21ac6ee16d_n.jpg? [y]es, [n]o, [A]ll, [N]one, [r]ename: y\n",
            "replace flowers/rose/272481307_1eb47ba3e0_n.jpg? [y]es, [n]o, [A]ll, [N]one, [r]ename: y\n",
            "replace flowers/rose/295257304_de893fc94d.jpg? [y]es, [n]o, [A]ll, [N]one, [r]ename: y\n",
            "replace flowers/rose/298670754_f25edda891.jpg? [y]es, [n]o, [A]ll, [N]one, [r]ename: y\n",
            "replace flowers/rose/319298955_0c72bd36bf.jpg? [y]es, [n]o, [A]ll, [N]one, [r]ename: y\n",
            "replace flowers/rose/323872063_7264e7e018_m.jpg? [y]es, [n]o, [A]ll, [N]one, [r]ename: y\n",
            "replace flowers/rose/326541992_d542103ca8_n.jpg? [y]es, [n]o, [A]ll, [N]one, [r]ename: y\n",
            "replace flowers/rose/353897245_5453f35a8e.jpg? [y]es, [n]o, [A]ll, [N]one, [r]ename: y\n",
            "replace flowers/rose/388405293_4db1d71f21_n.jpg? [y]es, [n]o, [A]ll, [N]one, [r]ename: y\n",
            "replace flowers/rose/394990940_7af082cf8d_n.jpg? [y]es, [n]o, [A]ll, [N]one, [r]ename: y\n",
            "replace flowers/rose/410421672_563550467c.jpg? [y]es, [n]o, [A]ll, [N]one, [r]ename: y\n",
            "replace flowers/rose/410425647_4586667858.jpg? [y]es, [n]o, [A]ll, [N]one, [r]ename: y\n",
            "replace flowers/rose/99383371_37a5ac12a3_n.jpg? [y]es, [n]o, [A]ll, [N]one, [r]ename: y\n",
            "replace flowers/sunflower/127192624_afa3d9cb84.jpg? [y]es, [n]o, [A]ll, [N]one, [r]ename: y\n",
            "replace flowers/sunflower/145303599_2627e23815_n.jpg? [y]es, [n]o, [A]ll, [N]one, [r]ename: y\n",
            "replace flowers/sunflower/147804446_ef9244c8ce_m.jpg? [y]es, [n]o, [A]ll, [N]one, [r]ename: y\n",
            "replace flowers/sunflower/151898652_b5f1c70b98_n.jpg? [y]es, [n]o, [A]ll, [N]one, [r]ename: y\n",
            "replace flowers/sunflower/164668737_aeab0cb55e_n.jpg? [y]es, [n]o, [A]ll, [N]one, [r]ename: y\n",
            "replace flowers/sunflower/164670176_9f5b9c7965.jpg? [y]es, [n]o, [A]ll, [N]one, [r]ename: y\n",
            "replace flowers/sunflower/164670455_29d8e02bbd_n.jpg? [y]es, [n]o, [A]ll, [N]one, [r]ename: y\n",
            "replace flowers/sunflower/24459548_27a783feda.jpg? [y]es, [n]o, [A]ll, [N]one, [r]ename: y\n",
            "replace flowers/sunflower/24459750_eb49f6e4cb_m.jpg? [y]es, [n]o, [A]ll, [N]one, [r]ename: y\n",
            "replace flowers/sunflower/26254755_1bfc494ef1_n.jpg? [y]es, [n]o, [A]ll, [N]one, [r]ename: y\n",
            "replace flowers/sunflower/27465811_9477c9d044.jpg? [y]es, [n]o, [A]ll, [N]one, [r]ename: y\n",
            "replace flowers/sunflower/27466794_57e4fe5656.jpg? [y]es, [n]o, [A]ll, [N]one, [r]ename: y\n",
            "replace flowers/sunflower/29972905_4cc537ff4b_n.jpg? [y]es, [n]o, [A]ll, [N]one, [r]ename: y\n",
            "replace flowers/sunflower/35477171_13cb52115c_n.jpg? [y]es, [n]o, [A]ll, [N]one, [r]ename: y\n",
            "replace flowers/sunflower/39271782_b4335d09ae_n.jpg? [y]es, [n]o, [A]ll, [N]one, [r]ename: y\n",
            "replace flowers/sunflower/40410686_272bc66faf_m.jpg? [y]es, [n]o, [A]ll, [N]one, [r]ename: y\n",
            "replace flowers/sunflower/40410814_fba3837226_n.jpg? [y]es, [n]o, [A]ll, [N]one, [r]ename: y\n",
            "replace flowers/sunflower/40410963_3ac280f23a_n.jpg? [y]es, [n]o, [A]ll, [N]one, [r]ename: y\n",
            "replace flowers/sunflower/40411019_526f3fc8d9_m.jpg? [y]es, [n]o, [A]ll, [N]one, [r]ename: y\n",
            "replace flowers/sunflower/40411100_7fbe10ec0f_n.jpg? [y]es, [n]o, [A]ll, [N]one, [r]ename: y\n",
            "replace flowers/sunflower/44079668_34dfee3da1_n.jpg? [y]es, [n]o, [A]ll, [N]one, [r]ename: y\n",
            "replace flowers/sunflower/45045003_30bbd0a142_m.jpg? [y]es, [n]o, [A]ll, [N]one, [r]ename: y\n",
            "replace flowers/sunflower/45045005_57354ee844.jpg? [y]es, [n]o, [A]ll, [N]one, [r]ename: y\n",
            "replace flowers/sunflower/50987813_7484bfbcdf.jpg? [y]es, [n]o, [A]ll, [N]one, [r]ename: y\n",
            "replace flowers/sunflower/58636535_bc53ef0a21_m.jpg? [y]es, [n]o, [A]ll, [N]one, [r]ename: y\n",
            "replace flowers/sunflower/6953297_8576bf4ea3.jpg? [y]es, [n]o, [A]ll, [N]one, [r]ename: y\n",
            "replace flowers/tulip/100930342_92e8746431_n.jpg? [y]es, [n]o, [A]ll, [N]one, [r]ename: y\n",
            "replace flowers/tulip/107693873_86021ac4ea_n.jpg? [y]es, [n]o, [A]ll, [N]one, [r]ename: y\n",
            "replace flowers/tulip/10791227_7168491604.jpg? [y]es, [n]o, [A]ll, [N]one, [r]ename: y\n",
            "replace flowers/tulip/110147301_ad921e2828.jpg? [y]es, [n]o, [A]ll, [N]one, [r]ename: y\n",
            "replace flowers/tulip/112334842_3ecf7585dd.jpg? [y]es, [n]o, [A]ll, [N]one, [r]ename: y\n",
            "replace flowers/tulip/112428665_d8f3632f36_n.jpg? [y]es, [n]o, [A]ll, [N]one, [r]ename: y\n",
            "replace flowers/tulip/112428919_f0c5ad7d9d_n.jpg? [y]es, [n]o, [A]ll, [N]one, [r]ename: y\n",
            "replace flowers/tulip/112650879_82adc2cc04_n.jpg? [y]es, [n]o, [A]ll, [N]one, [r]ename: y\n",
            "replace flowers/tulip/112651128_7b5d39a346_m.jpg? [y]es, [n]o, [A]ll, [N]one, [r]ename: y\n",
            "replace flowers/tulip/112951022_4892b1348b_n.jpg? [y]es, [n]o, [A]ll, [N]one, [r]ename: y\n",
            "replace flowers/tulip/112951086_150a59d499_n.jpg? [y]es, [n]o, [A]ll, [N]one, [r]ename: y\n",
            "replace flowers/tulip/113291410_1bdc718ed8_n.jpg? [y]es, [n]o, [A]ll, [N]one, [r]ename: y\n",
            "replace flowers/tulip/113902743_8f537f769b_n.jpg? [y]es, [n]o, [A]ll, [N]one, [r]ename: y\n",
            "replace flowers/tulip/113960470_38fab8f2fb_m.jpg? [y]es, [n]o, [A]ll, [N]one, [r]ename: y\n",
            "replace flowers/tulip/116343334_9cb4acdc57_n.jpg? [y]es, [n]o, [A]ll, [N]one, [r]ename: y\n",
            "replace flowers/tulip/11746080_963537acdc.jpg? [y]es, [n]o, [A]ll, [N]one, [r]ename: y\n",
            "replace flowers/tulip/11746276_de3dec8201.jpg? [y]es, [n]o, [A]ll, [N]one, [r]ename: y\n",
            "replace flowers/tulip/11746367_d23a35b085_n.jpg? [y]es, [n]o, [A]ll, [N]one, [r]ename: y\n",
            "replace flowers/tulip/11746452_5bc1749a36.jpg? [y]es, [n]o, [A]ll, [N]one, [r]ename: y\n",
            "replace flowers/tulip/11746548_26b3256922_n.jpg? [y]es, [n]o, [A]ll, [N]one, [r]ename: y\n",
            "replace flowers/tulip/122450705_9885fff3c4_n.jpg? [y]es, [n]o, [A]ll, [N]one, [r]ename: y\n",
            "replace flowers/tulip/130685040_3c2fcec63e_n.jpg? [y]es, [n]o, [A]ll, [N]one, [r]ename: y\n",
            "replace flowers/tulip/130685347_afbffe3afa_n.jpg? [y]es, [n]o, [A]ll, [N]one, [r]ename: y\n",
            "replace flowers/tulip/14957470_6a8c272a87_m.jpg? [y]es, [n]o, [A]ll, [N]one, [r]ename: y\n",
            "replace flowers/tulip/38287568_627de6ca20.jpg? [y]es, [n]o, [A]ll, [N]one, [r]ename: y\n",
            "replace flowers/tulip/65347450_53658c63bd_n.jpg? [y]es, [n]o, [A]ll, [N]one, [r]ename: y\n"
          ],
          "name": "stdout"
        }
      ]
    },
    {
      "cell_type": "code",
      "metadata": {
        "id": "DfHk1gDzMkYq"
      },
      "source": [
        "#Defining a function to generate more data with slight variations for training\n",
        "def gen_data(flower):\n",
        "  label = flower\n",
        "  path = '/content/flowers/' + flower\n",
        "  img_list = os.listdir(path)\n",
        "  for img in img_list:\n",
        "    img = cv2.imread(path + '/' + img)\n",
        "    img = img.reshape((1,) + img.shape) \n",
        "\n",
        "    augment = ImageDataGenerator(rescale = 1./255, zoom_range = 0.1, \n",
        "                             height_shift_range = 0.1, shear_range = 5, rotation_range = 5,\n",
        "                             horizontal_flip = True)\n",
        "\n",
        "    i = 0\n",
        "    for batch in augment.flow(img, batch_size = 1, save_to_dir = path + '/', save_prefix = 'gen', \n",
        "                        save_format = 'jpeg'):\n",
        "      i = i+1\n",
        "      if i == 10: break"
      ],
      "execution_count": 33,
      "outputs": []
    },
    {
      "cell_type": "code",
      "metadata": {
        "id": "lJTjo9lmM1Uo"
      },
      "source": [
        "#Defining a function to compile our dataset since our data is in different folders\n",
        "x = []\n",
        "y = []\n",
        "def compile_data(flower):\n",
        "  label = flower\n",
        "  \n",
        "  path = '/content/flowers/' + flower\n",
        "  img_list = os.listdir(path)\n",
        "  for img in img_list:\n",
        "    img = cv2.imread(path + '/' + img)\n",
        "    img = cv2.resize(img, (256, 256))\n",
        "    x.append(img)\n",
        "    y.append(label)"
      ],
      "execution_count": 34,
      "outputs": []
    },
    {
      "cell_type": "code",
      "metadata": {
        "id": "1I1G9nfVB3PR"
      },
      "source": [
        "#Generating more data for each flower\n",
        "gen_data('daisy')\n",
        "gen_data('dandelion')\n",
        "gen_data('rose')\n",
        "gen_data('sunflower')\n",
        "gen_data('tulip')"
      ],
      "execution_count": 35,
      "outputs": []
    },
    {
      "cell_type": "code",
      "metadata": {
        "id": "JsaNWpGOB65p"
      },
      "source": [
        "#Compiling all the data\n",
        "compile_data('daisy')\n",
        "compile_data('dandelion')\n",
        "compile_data('rose')\n",
        "compile_data('sunflower')\n",
        "compile_data('tulip')"
      ],
      "execution_count": 36,
      "outputs": []
    },
    {
      "cell_type": "code",
      "metadata": {
        "colab": {
          "base_uri": "https://localhost:8080/"
        },
        "id": "lpLTNkjMNBjo",
        "outputId": "37db9ce1-7509-4de1-ec13-06f16bb81bf8"
      },
      "source": [
        "#Converting all the images into NumPy Array, Reshaping then Scaling\n",
        "x = np.array(x)\n",
        "x = np.reshape(x, (len(x), 256*256*3))\n",
        "x = x/255\n",
        "np.shape(x)"
      ],
      "execution_count": 37,
      "outputs": [
        {
          "output_type": "execute_result",
          "data": {
            "text/plain": [
              "(1272, 196608)"
            ]
          },
          "metadata": {
            "tags": []
          },
          "execution_count": 37
        }
      ]
    },
    {
      "cell_type": "code",
      "metadata": {
        "colab": {
          "base_uri": "https://localhost:8080/"
        },
        "id": "78K-x7CTM4Lo",
        "outputId": "e06b1376-62cd-4d76-bc88-4fb8a598d6ec"
      },
      "source": [
        "#Converting all the flowers into labels\n",
        "LE = LabelEncoder()\n",
        "y = LE.fit_transform(y)\n",
        "y = to_categorical(y)\n",
        "y"
      ],
      "execution_count": 38,
      "outputs": [
        {
          "output_type": "execute_result",
          "data": {
            "text/plain": [
              "array([[1., 0., 0., 0., 0.],\n",
              "       [1., 0., 0., 0., 0.],\n",
              "       [1., 0., 0., 0., 0.],\n",
              "       ...,\n",
              "       [0., 0., 0., 0., 1.],\n",
              "       [0., 0., 0., 0., 1.],\n",
              "       [0., 0., 0., 0., 1.]], dtype=float32)"
            ]
          },
          "metadata": {
            "tags": []
          },
          "execution_count": 38
        }
      ]
    },
    {
      "cell_type": "code",
      "metadata": {
        "id": "bQJz3wHVCIph"
      },
      "source": [
        "x = np.reshape(x, (np.shape(x)[0], 256, 256, 3))"
      ],
      "execution_count": 39,
      "outputs": []
    },
    {
      "cell_type": "code",
      "metadata": {
        "id": "s4TymBkKM7Xc"
      },
      "source": [
        "#Splitting into Train-Test Sets and Setting random seeds\n",
        "seed = 42\n",
        "x_train, x_test, y_train, y_test = train_test_split(x, y, train_size = 0.8, random_state = seed)\n",
        "np.random.seed(seed)\n",
        "tf.random.set_seed(seed)"
      ],
      "execution_count": 40,
      "outputs": []
    },
    {
      "cell_type": "code",
      "metadata": {
        "id": "jomW0jMANkLi"
      },
      "source": [
        "model = Sequential()\n",
        "model.add(Conv2D(filters = 32, kernel_size = (3,3),padding = 'Same',activation ='relu', input_shape = (256,256,3)))\n",
        "model.add(MaxPool2D(pool_size=(2,2), strides=(2,2)))\n",
        "\n",
        "model.add(Conv2D(filters = 64, kernel_size = (3,3),padding = 'Same', activation ='relu'))\n",
        "model.add(MaxPool2D(pool_size=(2,2), strides=(2,2)))\n",
        "\n",
        "model.add(Conv2D(filters = 128, kernel_size = (3,3),padding = 'Same', activation ='relu'))\n",
        "model.add(MaxPool2D(pool_size=(2,2), strides=(2,2)))\n",
        "\n",
        "model.add(Flatten())\n",
        "model.add(Dense(218, activation = 'relu'))\n",
        "model.add(Dense(5, activation = 'softmax'))"
      ],
      "execution_count": 41,
      "outputs": []
    },
    {
      "cell_type": "code",
      "metadata": {
        "id": "e3JfmbHtNxjX"
      },
      "source": [
        "from keras.callbacks import ReduceLROnPlateau\n",
        "learning_rate_reduction = ReduceLROnPlateau(monitor='val_accuracy', patience = 2, verbose=1,factor=0.3, min_lr=0.000001)\n",
        "es = tf.keras.callbacks.EarlyStopping(monitor = 'val_accuracy', min_delta = 0.05, patience = 10, mode = 'max', restore_best_weights = True)"
      ],
      "execution_count": 42,
      "outputs": []
    },
    {
      "cell_type": "code",
      "metadata": {
        "colab": {
          "base_uri": "https://localhost:8080/"
        },
        "id": "coJ1xRRQOMGN",
        "outputId": "e9b8ac80-b787-4979-d581-dbee7ab7f024"
      },
      "source": [
        "model.compile(optimizer = \"adam\" , loss = 'categorical_crossentropy' , metrics = ['accuracy'])\n",
        "model.summary()"
      ],
      "execution_count": 43,
      "outputs": [
        {
          "output_type": "stream",
          "text": [
            "Model: \"sequential\"\n",
            "_________________________________________________________________\n",
            "Layer (type)                 Output Shape              Param #   \n",
            "=================================================================\n",
            "conv2d (Conv2D)              (None, 256, 256, 32)      896       \n",
            "_________________________________________________________________\n",
            "max_pooling2d (MaxPooling2D) (None, 128, 128, 32)      0         \n",
            "_________________________________________________________________\n",
            "conv2d_1 (Conv2D)            (None, 128, 128, 64)      18496     \n",
            "_________________________________________________________________\n",
            "max_pooling2d_1 (MaxPooling2 (None, 64, 64, 64)        0         \n",
            "_________________________________________________________________\n",
            "conv2d_2 (Conv2D)            (None, 64, 64, 128)       73856     \n",
            "_________________________________________________________________\n",
            "max_pooling2d_2 (MaxPooling2 (None, 32, 32, 128)       0         \n",
            "_________________________________________________________________\n",
            "flatten (Flatten)            (None, 131072)            0         \n",
            "_________________________________________________________________\n",
            "dense (Dense)                (None, 218)               28573914  \n",
            "_________________________________________________________________\n",
            "dense_1 (Dense)              (None, 5)                 1095      \n",
            "=================================================================\n",
            "Total params: 28,668,257\n",
            "Trainable params: 28,668,257\n",
            "Non-trainable params: 0\n",
            "_________________________________________________________________\n"
          ],
          "name": "stdout"
        }
      ]
    },
    {
      "cell_type": "code",
      "metadata": {
        "colab": {
          "base_uri": "https://localhost:8080/"
        },
        "id": "_NgX1OdIOkbc",
        "outputId": "63315739-63a7-4cf2-b531-3980465d90a5"
      },
      "source": [
        "history = model.fit(x_train,y_train , batch_size=10 ,epochs = 10 , validation_split=0.2 ,callbacks = [learning_rate_reduction])"
      ],
      "execution_count": 44,
      "outputs": [
        {
          "output_type": "stream",
          "text": [
            "Epoch 1/10\n",
            "82/82 [==============================] - 116s 1s/step - loss: 1.3471 - accuracy: 0.5572 - val_loss: 0.6634 - val_accuracy: 0.7500\n",
            "Epoch 2/10\n",
            "82/82 [==============================] - 116s 1s/step - loss: 0.5351 - accuracy: 0.8032 - val_loss: 0.6329 - val_accuracy: 0.8186\n",
            "Epoch 3/10\n",
            "82/82 [==============================] - 116s 1s/step - loss: 0.2840 - accuracy: 0.9102 - val_loss: 0.3331 - val_accuracy: 0.9118\n",
            "Epoch 4/10\n",
            "82/82 [==============================] - 116s 1s/step - loss: 0.3465 - accuracy: 0.8942 - val_loss: 0.3227 - val_accuracy: 0.8873\n",
            "Epoch 5/10\n",
            "82/82 [==============================] - 116s 1s/step - loss: 0.0842 - accuracy: 0.9754 - val_loss: 0.1330 - val_accuracy: 0.9657\n",
            "Epoch 6/10\n",
            "82/82 [==============================] - 116s 1s/step - loss: 0.0524 - accuracy: 0.9791 - val_loss: 0.1978 - val_accuracy: 0.9657\n",
            "Epoch 7/10\n",
            "82/82 [==============================] - ETA: 0s - loss: 0.1041 - accuracy: 0.9680\n",
            "Epoch 00007: ReduceLROnPlateau reducing learning rate to 0.0003000000142492354.\n",
            "82/82 [==============================] - 116s 1s/step - loss: 0.1041 - accuracy: 0.9680 - val_loss: 0.5421 - val_accuracy: 0.9167\n",
            "Epoch 8/10\n",
            "82/82 [==============================] - 116s 1s/step - loss: 0.0452 - accuracy: 0.9951 - val_loss: 0.1436 - val_accuracy: 0.9902\n",
            "Epoch 9/10\n",
            "82/82 [==============================] - 116s 1s/step - loss: 0.0039 - accuracy: 1.0000 - val_loss: 0.1346 - val_accuracy: 0.9902\n",
            "Epoch 10/10\n",
            "82/82 [==============================] - 116s 1s/step - loss: 0.0024 - accuracy: 1.0000 - val_loss: 0.1312 - val_accuracy: 0.9951\n"
          ],
          "name": "stdout"
        }
      ]
    },
    {
      "cell_type": "code",
      "metadata": {
        "colab": {
          "base_uri": "https://localhost:8080/"
        },
        "id": "mE82b8nsO0EE",
        "outputId": "1ebb0e67-9262-4c28-e49c-2e54bb19bee3"
      },
      "source": [
        "print(\"Loss of the model is - \" , model.evaluate(x_test,y_test)[0])\n",
        "print(\"Accuracy of the model is - \" , model.evaluate(x_test,y_test)[1]*100 , \"%\")"
      ],
      "execution_count": 45,
      "outputs": [
        {
          "output_type": "stream",
          "text": [
            "8/8 [==============================] - 7s 889ms/step - loss: 0.2931 - accuracy: 0.9765\n",
            "Loss of the model is -  0.2931431531906128\n",
            "8/8 [==============================] - 7s 886ms/step - loss: 0.2931 - accuracy: 0.9765\n",
            "Accuracy of the model is -  97.64705896377563 %\n"
          ],
          "name": "stdout"
        }
      ]
    },
    {
      "cell_type": "code",
      "metadata": {
        "colab": {
          "base_uri": "https://localhost:8080/",
          "height": 492
        },
        "id": "BXH6ccxBPjp3",
        "outputId": "e8b341db-486b-413b-adfc-9480818110d4"
      },
      "source": [
        "plt.figure(figsize = (10,7))\n",
        "plt.plot(history.history['accuracy'], color = 'yellow')\n",
        "plt.plot(history.history['val_accuracy'], color = 'blue')\n",
        "plt.ylim((0,1))\n",
        "plt.title('Model accuracy')\n",
        "plt.ylabel('Loss')\n",
        "plt.xlabel('Epoch')\n",
        "plt.legend(['Train', 'Validation'], loc='upper left')\n",
        "plt.show()"
      ],
      "execution_count": 46,
      "outputs": [
        {
          "output_type": "display_data",
          "data": {
            "image/png": "[encoded data removed]",
            "text/plain": [
              "<Figure size 720x504 with 1 Axes>"
            ]
          },
          "metadata": {
            "tags": []
          }
        }
      ]
    },
    {
      "cell_type": "code",
      "metadata": {
        "colab": {
          "base_uri": "https://localhost:8080/"
        },
        "id": "_BPJY0MoVJTg",
        "outputId": "aee073fd-b8c4-497d-965a-feada1ae9b9b"
      },
      "source": [
        "import tensorflow as tf\n",
        "\n",
        "tf.keras.models.save_model(model,'h51')"
      ],
      "execution_count": 47,
      "outputs": [
        {
          "output_type": "stream",
          "text": [
            "WARNING:tensorflow:From /usr/local/lib/python3.6/dist-packages/tensorflow/python/training/tracking/tracking.py:111: Model.state_updates (from tensorflow.python.keras.engine.training) is deprecated and will be removed in a future version.\n",
            "Instructions for updating:\n",
            "This property should not be used in TensorFlow 2.0, as updates are applied automatically.\n",
            "WARNING:tensorflow:From /usr/local/lib/python3.6/dist-packages/tensorflow/python/training/tracking/tracking.py:111: Layer.updates (from tensorflow.python.keras.engine.base_layer) is deprecated and will be removed in a future version.\n",
            "Instructions for updating:\n",
            "This property should not be used in TensorFlow 2.0, as updates are applied automatically.\n",
            "INFO:tensorflow:Assets written to: h51/assets\n"
          ],
          "name": "stdout"
        }
      ]
    }
  ]
}