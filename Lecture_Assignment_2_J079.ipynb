{
  "nbformat": 4,
  "nbformat_minor": 0,
  "metadata": {
    "colab": {
      "name": "Lecture_Assignment_2_J079.ipynb",
      "provenance": [],
      "include_colab_link": true
    },
    "kernelspec": {
      "name": "python3",
      "display_name": "Python 3"
    },
    "language_info": {
      "name": "python"
    }
  },
  "cells": [
    {
      "cell_type": "markdown",
      "metadata": {
        "id": "view-in-github",
        "colab_type": "text"
      },
      "source": [
        "<a href=\"https://colab.research.google.com/github/chinmayj23/DL/blob/main/Lecture_Assignment_2_J079.ipynb\" target=\"_parent\"><img src=\"https://colab.research.google.com/assets/colab-badge.svg\" alt=\"Open In Colab\"/></a>"
      ]
    },
    {
      "cell_type": "markdown",
      "metadata": {
        "id": "XLrf0BPAywoI"
      },
      "source": [
        "**STOCK MARKET PREDICTION**"
      ]
    },
    {
      "cell_type": "code",
      "metadata": {
        "id": "JrJqtwBRytNl"
      },
      "source": [
        "import math \n",
        "import pandas_datareader as web\n",
        "import numpy as np\n",
        "import pandas as pd\n",
        "from sklearn.preprocessing import MinMaxScaler\n",
        "from keras.models import Sequential\n",
        "from keras.layers import Dense, LSTM\n",
        "import matplotlib.pyplot as plt\n",
        "plt.style.use('fivethirtyeight')"
      ],
      "execution_count": 1,
      "outputs": []
    },
    {
      "cell_type": "code",
      "metadata": {
        "id": "r-SWFxuHy6tg"
      },
      "source": [
        "data = web.DataReader('ABFRL.NS', data_source='yahoo', start='2016-01-01', end='2021-2-25')"
      ],
      "execution_count": 2,
      "outputs": []
    },
    {
      "cell_type": "code",
      "metadata": {
        "colab": {
          "base_uri": "https://localhost:8080/",
          "height": 431
        },
        "id": "f9OdNJUKy-On",
        "outputId": "e6d76a8c-bcb3-42f5-c3d6-44b73e992ef7"
      },
      "source": [
        "data"
      ],
      "execution_count": 3,
      "outputs": [
        {
          "output_type": "execute_result",
          "data": {
            "text/html": [
              "<div>\n",
              "<style scoped>\n",
              "    .dataframe tbody tr th:only-of-type {\n",
              "        vertical-align: middle;\n",
              "    }\n",
              "\n",
              "    .dataframe tbody tr th {\n",
              "        vertical-align: top;\n",
              "    }\n",
              "\n",
              "    .dataframe thead th {\n",
              "        text-align: right;\n",
              "    }\n",
              "</style>\n",
              "<table border=\"1\" class=\"dataframe\">\n",
              "  <thead>\n",
              "    <tr style=\"text-align: right;\">\n",
              "      <th></th>\n",
              "      <th>High</th>\n",
              "      <th>Low</th>\n",
              "      <th>Open</th>\n",
              "      <th>Close</th>\n",
              "      <th>Volume</th>\n",
              "      <th>Adj Close</th>\n",
              "    </tr>\n",
              "    <tr>\n",
              "      <th>Date</th>\n",
              "      <th></th>\n",
              "      <th></th>\n",
              "      <th></th>\n",
              "      <th></th>\n",
              "      <th></th>\n",
              "      <th></th>\n",
              "    </tr>\n",
              "  </thead>\n",
              "  <tbody>\n",
              "    <tr>\n",
              "      <th>2016-01-01</th>\n",
              "      <td>263.450012</td>\n",
              "      <td>232.000000</td>\n",
              "      <td>233.000000</td>\n",
              "      <td>248.000000</td>\n",
              "      <td>307528.0</td>\n",
              "      <td>248.000000</td>\n",
              "    </tr>\n",
              "    <tr>\n",
              "      <th>2016-01-04</th>\n",
              "      <td>258.799988</td>\n",
              "      <td>245.000000</td>\n",
              "      <td>249.449997</td>\n",
              "      <td>247.800003</td>\n",
              "      <td>198454.0</td>\n",
              "      <td>247.800003</td>\n",
              "    </tr>\n",
              "    <tr>\n",
              "      <th>2016-01-05</th>\n",
              "      <td>252.050003</td>\n",
              "      <td>242.699997</td>\n",
              "      <td>248.000000</td>\n",
              "      <td>245.300003</td>\n",
              "      <td>53406.0</td>\n",
              "      <td>245.300003</td>\n",
              "    </tr>\n",
              "    <tr>\n",
              "      <th>2016-01-06</th>\n",
              "      <td>246.899994</td>\n",
              "      <td>238.000000</td>\n",
              "      <td>246.899994</td>\n",
              "      <td>239.649994</td>\n",
              "      <td>43807.0</td>\n",
              "      <td>239.649994</td>\n",
              "    </tr>\n",
              "    <tr>\n",
              "      <th>2016-01-07</th>\n",
              "      <td>236.699997</td>\n",
              "      <td>226.300003</td>\n",
              "      <td>235.050003</td>\n",
              "      <td>228.949997</td>\n",
              "      <td>47286.0</td>\n",
              "      <td>228.949997</td>\n",
              "    </tr>\n",
              "    <tr>\n",
              "      <th>...</th>\n",
              "      <td>...</td>\n",
              "      <td>...</td>\n",
              "      <td>...</td>\n",
              "      <td>...</td>\n",
              "      <td>...</td>\n",
              "      <td>...</td>\n",
              "    </tr>\n",
              "    <tr>\n",
              "      <th>2021-02-22</th>\n",
              "      <td>168.399994</td>\n",
              "      <td>164.699997</td>\n",
              "      <td>164.800003</td>\n",
              "      <td>166.500000</td>\n",
              "      <td>1750989.0</td>\n",
              "      <td>166.500000</td>\n",
              "    </tr>\n",
              "    <tr>\n",
              "      <th>2021-02-23</th>\n",
              "      <td>169.899994</td>\n",
              "      <td>166.000000</td>\n",
              "      <td>168.149994</td>\n",
              "      <td>168.399994</td>\n",
              "      <td>4514222.0</td>\n",
              "      <td>168.399994</td>\n",
              "    </tr>\n",
              "    <tr>\n",
              "      <th>2021-02-24</th>\n",
              "      <td>184.000000</td>\n",
              "      <td>170.000000</td>\n",
              "      <td>170.000000</td>\n",
              "      <td>179.250000</td>\n",
              "      <td>7198216.0</td>\n",
              "      <td>179.250000</td>\n",
              "    </tr>\n",
              "    <tr>\n",
              "      <th>2021-02-25</th>\n",
              "      <td>185.000000</td>\n",
              "      <td>176.350006</td>\n",
              "      <td>182.300003</td>\n",
              "      <td>182.350006</td>\n",
              "      <td>5618914.0</td>\n",
              "      <td>182.350006</td>\n",
              "    </tr>\n",
              "    <tr>\n",
              "      <th>2021-02-26</th>\n",
              "      <td>185.000000</td>\n",
              "      <td>176.250000</td>\n",
              "      <td>177.500000</td>\n",
              "      <td>183.600006</td>\n",
              "      <td>4766228.0</td>\n",
              "      <td>183.600006</td>\n",
              "    </tr>\n",
              "  </tbody>\n",
              "</table>\n",
              "<p>1272 rows × 6 columns</p>\n",
              "</div>"
            ],
            "text/plain": [
              "                  High         Low  ...     Volume   Adj Close\n",
              "Date                                ...                       \n",
              "2016-01-01  263.450012  232.000000  ...   307528.0  248.000000\n",
              "2016-01-04  258.799988  245.000000  ...   198454.0  247.800003\n",
              "2016-01-05  252.050003  242.699997  ...    53406.0  245.300003\n",
              "2016-01-06  246.899994  238.000000  ...    43807.0  239.649994\n",
              "2016-01-07  236.699997  226.300003  ...    47286.0  228.949997\n",
              "...                ...         ...  ...        ...         ...\n",
              "2021-02-22  168.399994  164.699997  ...  1750989.0  166.500000\n",
              "2021-02-23  169.899994  166.000000  ...  4514222.0  168.399994\n",
              "2021-02-24  184.000000  170.000000  ...  7198216.0  179.250000\n",
              "2021-02-25  185.000000  176.350006  ...  5618914.0  182.350006\n",
              "2021-02-26  185.000000  176.250000  ...  4766228.0  183.600006\n",
              "\n",
              "[1272 rows x 6 columns]"
            ]
          },
          "metadata": {
            "tags": []
          },
          "execution_count": 3
        }
      ]
    },
    {
      "cell_type": "code",
      "metadata": {
        "colab": {
          "base_uri": "https://localhost:8080/"
        },
        "id": "bHZtCzbjzCVh",
        "outputId": "deb4bdc4-d9a4-4a0e-9910-ad16ccb1c48f"
      },
      "source": [
        "data.iloc[data.shape[0]-39:,3]"
      ],
      "execution_count": null,
      "outputs": [
        {
          "output_type": "execute_result",
          "data": {
            "text/plain": [
              "Date\n",
              "2021-01-04    3552.899902\n",
              "2021-01-05    3551.100098\n",
              "2021-01-06    3539.699951\n",
              "2021-01-07    3552.800049\n",
              "2021-01-08    3575.250000\n",
              "2021-01-11    3612.850098\n",
              "2021-01-12    3631.649902\n",
              "2021-01-13    3621.149902\n",
              "2021-01-14    3665.449951\n",
              "2021-01-15    3609.050049\n",
              "2021-01-18    3607.850098\n",
              "2021-01-19    3601.250000\n",
              "2021-01-20    3592.300049\n",
              "2021-01-21    3630.800049\n",
              "2021-01-22    3608.000000\n",
              "2021-01-25    3613.550049\n",
              "2021-01-27    3610.750000\n",
              "2021-01-28    3603.750000\n",
              "2021-01-29    3501.100098\n",
              "2021-02-01    3520.750000\n",
              "2021-02-02    3501.250000\n",
              "2021-02-03    3516.500000\n",
              "2021-02-04    3580.000000\n",
              "2021-02-05    3541.649902\n",
              "2021-02-08    3473.699951\n",
              "2021-02-09    3462.399902\n",
              "2021-02-10    3424.850098\n",
              "2021-02-11    3462.750000\n",
              "2021-02-12    3421.250000\n",
              "2021-02-15    3417.000000\n",
              "2021-02-16    3389.449951\n",
              "2021-02-17    3364.000000\n",
              "2021-02-18    3359.449951\n",
              "2021-02-19    3331.199951\n",
              "2021-02-22    3341.199951\n",
              "2021-02-23    3335.949951\n",
              "2021-02-24    3405.550049\n",
              "2021-02-25    3405.000000\n",
              "2021-02-26    3363.750000\n",
              "Name: Close, dtype: float64"
            ]
          },
          "metadata": {
            "tags": []
          },
          "execution_count": 4
        }
      ]
    },
    {
      "cell_type": "code",
      "metadata": {
        "colab": {
          "base_uri": "https://localhost:8080/"
        },
        "id": "4W0rKO5VzGEM",
        "outputId": "deb94f5d-2791-4a28-fea7-cce7814e5cb5"
      },
      "source": [
        "data.shape"
      ],
      "execution_count": 4,
      "outputs": [
        {
          "output_type": "execute_result",
          "data": {
            "text/plain": [
              "(1272, 6)"
            ]
          },
          "metadata": {
            "tags": []
          },
          "execution_count": 4
        }
      ]
    },
    {
      "cell_type": "code",
      "metadata": {
        "colab": {
          "base_uri": "https://localhost:8080/",
          "height": 518
        },
        "id": "0izHTwP5zJlQ",
        "outputId": "dcbf92e0-8997-459e-91ea-1d122ad48e0f"
      },
      "source": [
        "plt.figure(figsize=(16,8))\n",
        "plt.title(\"Close Price History\")\n",
        "plt.plot(data['Close'])\n",
        "plt.xlabel('Date', fontsize=18)\n",
        "plt.ylabel('Close Price', fontsize=18)\n",
        "plt.show()"
      ],
      "execution_count": 5,
      "outputs": [
        {
          "output_type": "display_data",
          "data": {
            "image/png": "[encoded data removed]",
            "text/plain": [
              "<Figure size 1152x576 with 1 Axes>"
            ]
          },
          "metadata": {
            "tags": [],
            "needs_background": "light"
          }
        }
      ]
    },
    {
      "cell_type": "code",
      "metadata": {
        "colab": {
          "base_uri": "https://localhost:8080/"
        },
        "id": "5WPoqUu0zNq-",
        "outputId": "2f7fcfe5-3147-4275-e7af-f1edcd52c1dd"
      },
      "source": [
        "data = data.filter(['Close'])\n",
        "dataset = data.values\n",
        "training_data_len = data.shape[0]-39\n",
        "\n",
        "training_data_len"
      ],
      "execution_count": 6,
      "outputs": [
        {
          "output_type": "execute_result",
          "data": {
            "text/plain": [
              "1233"
            ]
          },
          "metadata": {
            "tags": []
          },
          "execution_count": 6
        }
      ]
    },
    {
      "cell_type": "code",
      "metadata": {
        "id": "le94nFBIzQl2"
      },
      "source": [
        "scaler = MinMaxScaler(feature_range=(0,1))\n",
        "scaled_data = scaler.fit_transform(dataset)\n"
      ],
      "execution_count": 7,
      "outputs": []
    },
    {
      "cell_type": "code",
      "metadata": {
        "colab": {
          "base_uri": "https://localhost:8080/"
        },
        "id": "05NVWCTDzUiS",
        "outputId": "afce30b9-1134-4b4d-d0c9-5a20f2500501"
      },
      "source": [
        "scaled_data"
      ],
      "execution_count": 8,
      "outputs": [
        {
          "output_type": "execute_result",
          "data": {
            "text/plain": [
              "array([[0.84242798],\n",
              "       [0.84130047],\n",
              "       [0.82720638],\n",
              "       ...,\n",
              "       [0.45484045],\n",
              "       [0.47231716],\n",
              "       [0.47936421]])"
            ]
          },
          "metadata": {
            "tags": []
          },
          "execution_count": 8
        }
      ]
    },
    {
      "cell_type": "code",
      "metadata": {
        "colab": {
          "base_uri": "https://localhost:8080/"
        },
        "id": "OFKRg8frzXiz",
        "outputId": "15362584-b0a1-41e7-cb6b-f0b62fab0678"
      },
      "source": [
        "train_data = scaled_data[0:training_data_len, :]\n",
        "x_train, y_train = [], []\n",
        "\n",
        "for i in range(60, len(train_data)):\n",
        "  x_train.append(train_data[i-60:i,0])\n",
        "  y_train.append(train_data[i,0])\n",
        "  if i<=61:\n",
        "    print(x_train)\n",
        "    print(y_train)\n",
        "    print()"
      ],
      "execution_count": 9,
      "outputs": [
        {
          "output_type": "stream",
          "text": [
            "[array([0.84242798, 0.84130047, 0.82720638, 0.79535368, 0.73503098,\n",
            "       0.74884318, 0.71473554, 0.67414449, 0.68598356, 0.6603323 ,\n",
            "       0.64285567, 0.57351272, 0.63468103, 0.67780901, 0.62396956,\n",
            "       0.6310166 , 0.63383542, 0.646802  , 0.68654736, 0.69754073,\n",
            "       0.68316474, 0.68344664, 0.62312395, 0.43961885, 0.47880041,\n",
            "       0.43933695, 0.41988712, 0.39310835, 0.35900063, 0.26175139,\n",
            "       0.23948274, 0.2634427 , 0.22397924, 0.25977818, 0.28712076,\n",
            "       0.2944497 , 0.27725489, 0.2631608 , 0.23891895, 0.20650253,\n",
            "       0.16675718, 0.23920085, 0.26146949, 0.34067831, 0.29050337,\n",
            "       0.27753679, 0.28148312, 0.28796637, 0.28965768, 0.2944497 ,\n",
            "       0.25075802, 0.23807333, 0.27189916, 0.29585911, 0.26710713,\n",
            "       0.23835523, 0.23356321, 0.21016705, 0.22313355, 0.22454295])]\n",
            "[0.2682346401365572]\n",
            "\n",
            "[array([0.84242798, 0.84130047, 0.82720638, 0.79535368, 0.73503098,\n",
            "       0.74884318, 0.71473554, 0.67414449, 0.68598356, 0.6603323 ,\n",
            "       0.64285567, 0.57351272, 0.63468103, 0.67780901, 0.62396956,\n",
            "       0.6310166 , 0.63383542, 0.646802  , 0.68654736, 0.69754073,\n",
            "       0.68316474, 0.68344664, 0.62312395, 0.43961885, 0.47880041,\n",
            "       0.43933695, 0.41988712, 0.39310835, 0.35900063, 0.26175139,\n",
            "       0.23948274, 0.2634427 , 0.22397924, 0.25977818, 0.28712076,\n",
            "       0.2944497 , 0.27725489, 0.2631608 , 0.23891895, 0.20650253,\n",
            "       0.16675718, 0.23920085, 0.26146949, 0.34067831, 0.29050337,\n",
            "       0.27753679, 0.28148312, 0.28796637, 0.28965768, 0.2944497 ,\n",
            "       0.25075802, 0.23807333, 0.27189916, 0.29585911, 0.26710713,\n",
            "       0.23835523, 0.23356321, 0.21016705, 0.22313355, 0.22454295]), array([0.84130047, 0.82720638, 0.79535368, 0.73503098, 0.74884318,\n",
            "       0.71473554, 0.67414449, 0.68598356, 0.6603323 , 0.64285567,\n",
            "       0.57351272, 0.63468103, 0.67780901, 0.62396956, 0.6310166 ,\n",
            "       0.63383542, 0.646802  , 0.68654736, 0.69754073, 0.68316474,\n",
            "       0.68344664, 0.62312395, 0.43961885, 0.47880041, 0.43933695,\n",
            "       0.41988712, 0.39310835, 0.35900063, 0.26175139, 0.23948274,\n",
            "       0.2634427 , 0.22397924, 0.25977818, 0.28712076, 0.2944497 ,\n",
            "       0.27725489, 0.2631608 , 0.23891895, 0.20650253, 0.16675718,\n",
            "       0.23920085, 0.26146949, 0.34067831, 0.29050337, 0.27753679,\n",
            "       0.28148312, 0.28796637, 0.28965768, 0.2944497 , 0.25075802,\n",
            "       0.23807333, 0.27189916, 0.29585911, 0.26710713, 0.23835523,\n",
            "       0.23356321, 0.21016705, 0.22313355, 0.22454295, 0.26823464])]\n",
            "[0.2682346401365572, 0.2369458247155697]\n",
            "\n"
          ],
          "name": "stdout"
        }
      ]
    },
    {
      "cell_type": "code",
      "metadata": {
        "id": "f3t3HkeXzbs5"
      },
      "source": [
        "x_train, y_train = np.array(x_train), np.array(y_train)"
      ],
      "execution_count": 10,
      "outputs": []
    },
    {
      "cell_type": "code",
      "metadata": {
        "colab": {
          "base_uri": "https://localhost:8080/"
        },
        "id": "NKU7_BTczhDT",
        "outputId": "bbca857b-b6b0-4791-d178-473b271f52b2"
      },
      "source": [
        "x_train = np.reshape(x_train, (x_train.shape[0], x_train.shape[1], 1))\n",
        "x_train.shape"
      ],
      "execution_count": 11,
      "outputs": [
        {
          "output_type": "execute_result",
          "data": {
            "text/plain": [
              "(1173, 60, 1)"
            ]
          },
          "metadata": {
            "tags": []
          },
          "execution_count": 11
        }
      ]
    },
    {
      "cell_type": "code",
      "metadata": {
        "id": "I1auYX4GziKD"
      },
      "source": [
        "model = Sequential()\n",
        "\n",
        "model.add(LSTM(50, return_sequences=True, input_shape = (x_train.shape[1],1)))\n",
        "model.add(LSTM(50, return_sequences=False))\n",
        "model.add(Dense(25))\n",
        "model.add(Dense(1))"
      ],
      "execution_count": 12,
      "outputs": []
    },
    {
      "cell_type": "code",
      "metadata": {
        "colab": {
          "base_uri": "https://localhost:8080/"
        },
        "id": "01eSfJTnzltZ",
        "outputId": "618ffcd2-54f7-4155-fa7e-90fe021d7a4c"
      },
      "source": [
        "model.summary()"
      ],
      "execution_count": 13,
      "outputs": [
        {
          "output_type": "stream",
          "text": [
            "Model: \"sequential\"\n",
            "_________________________________________________________________\n",
            "Layer (type)                 Output Shape              Param #   \n",
            "=================================================================\n",
            "lstm (LSTM)                  (None, 60, 50)            10400     \n",
            "_________________________________________________________________\n",
            "lstm_1 (LSTM)                (None, 50)                20200     \n",
            "_________________________________________________________________\n",
            "dense (Dense)                (None, 25)                1275      \n",
            "_________________________________________________________________\n",
            "dense_1 (Dense)              (None, 1)                 26        \n",
            "=================================================================\n",
            "Total params: 31,901\n",
            "Trainable params: 31,901\n",
            "Non-trainable params: 0\n",
            "_________________________________________________________________\n"
          ],
          "name": "stdout"
        }
      ]
    },
    {
      "cell_type": "code",
      "metadata": {
        "id": "PkUnrBGUzokU"
      },
      "source": [
        "model.compile(optimizer='adam', loss='mean_squared_error')"
      ],
      "execution_count": 14,
      "outputs": []
    },
    {
      "cell_type": "code",
      "metadata": {
        "colab": {
          "base_uri": "https://localhost:8080/"
        },
        "id": "p3TkntHyzrKU",
        "outputId": "490ad331-d725-4f6e-8bd6-7af4705d507d"
      },
      "source": [
        "model.fit(x_train, y_train, batch_size=1, epochs=1)"
      ],
      "execution_count": 15,
      "outputs": [
        {
          "output_type": "stream",
          "text": [
            "1173/1173 [==============================] - 29s 22ms/step - loss: 0.0060\n"
          ],
          "name": "stdout"
        },
        {
          "output_type": "execute_result",
          "data": {
            "text/plain": [
              "<tensorflow.python.keras.callbacks.History at 0x7f829a6edd90>"
            ]
          },
          "metadata": {
            "tags": []
          },
          "execution_count": 15
        }
      ]
    },
    {
      "cell_type": "code",
      "metadata": {
        "id": "HX6ImQqrzuHu"
      },
      "source": [
        "test_data = scaled_data[training_data_len-60:,:]\n",
        "\n",
        "x_test, y_test = [], dataset[training_data_len:,:]\n",
        "\n",
        "for i in range(60, len(test_data)):\n",
        "  x_test.append(test_data[i-60:i,0])"
      ],
      "execution_count": 16,
      "outputs": []
    },
    {
      "cell_type": "code",
      "metadata": {
        "id": "OtDT7u8Dz3A1"
      },
      "source": [
        "x_test = np.array(x_test)"
      ],
      "execution_count": 17,
      "outputs": []
    },
    {
      "cell_type": "code",
      "metadata": {
        "id": "att0Jjpnz49P"
      },
      "source": [
        "x_test = np.reshape(x_test, (x_test.shape[0], x_test.shape[1], 1))"
      ],
      "execution_count": 18,
      "outputs": []
    },
    {
      "cell_type": "code",
      "metadata": {
        "id": "WcAMm3TPz7Lv"
      },
      "source": [
        "prediction = model.predict(x_test)\n",
        "prediction = scaler.inverse_transform(prediction)"
      ],
      "execution_count": 19,
      "outputs": []
    },
    {
      "cell_type": "code",
      "metadata": {
        "id": "yURkGNSn0ADw"
      },
      "source": [
        "rmse = np.sqrt(np.mean(prediction- y_test)**2)"
      ],
      "execution_count": 20,
      "outputs": []
    },
    {
      "cell_type": "code",
      "metadata": {
        "colab": {
          "base_uri": "https://localhost:8080/"
        },
        "id": "jIOCqQKH0CcF",
        "outputId": "27c1d546-0927-4e37-83b7-75c879620348"
      },
      "source": [
        "rmse"
      ],
      "execution_count": 21,
      "outputs": [
        {
          "output_type": "execute_result",
          "data": {
            "text/plain": [
              "2.7657885429186697"
            ]
          },
          "metadata": {
            "tags": []
          },
          "execution_count": 21
        }
      ]
    },
    {
      "cell_type": "code",
      "metadata": {
        "colab": {
          "base_uri": "https://localhost:8080/"
        },
        "id": "ACFOq7qC0ELs",
        "outputId": "39cf56d1-032a-49f7-9ba9-beb3d08aceee"
      },
      "source": [
        "train = data[:training_data_len]\n",
        "valid = data[training_data_len:]\n",
        "valid['Prediction'] = prediction \n",
        "valid['Error Precentage'] = ((valid['Close'] - valid['Prediction'])/valid['Close'])*100"
      ],
      "execution_count": 22,
      "outputs": [
        {
          "output_type": "stream",
          "text": [
            "/usr/local/lib/python3.7/dist-packages/ipykernel_launcher.py:3: SettingWithCopyWarning: \n",
            "A value is trying to be set on a copy of a slice from a DataFrame.\n",
            "Try using .loc[row_indexer,col_indexer] = value instead\n",
            "\n",
            "See the caveats in the documentation: https://pandas.pydata.org/pandas-docs/stable/user_guide/indexing.html#returning-a-view-versus-a-copy\n",
            "  This is separate from the ipykernel package so we can avoid doing imports until\n",
            "/usr/local/lib/python3.7/dist-packages/ipykernel_launcher.py:4: SettingWithCopyWarning: \n",
            "A value is trying to be set on a copy of a slice from a DataFrame.\n",
            "Try using .loc[row_indexer,col_indexer] = value instead\n",
            "\n",
            "See the caveats in the documentation: https://pandas.pydata.org/pandas-docs/stable/user_guide/indexing.html#returning-a-view-versus-a-copy\n",
            "  after removing the cwd from sys.path.\n"
          ],
          "name": "stderr"
        }
      ]
    },
    {
      "cell_type": "code",
      "metadata": {
        "colab": {
          "base_uri": "https://localhost:8080/",
          "height": 518
        },
        "id": "1gLPdSBL0Jbo",
        "outputId": "b88ae4d7-6bf3-4eb0-ad92-ad8c1783dd39"
      },
      "source": [
        "plt.figure(figsize=(16,8))\n",
        "plt.title(\"Model\")\n",
        "plt.xlabel('Date', fontsize=18)\n",
        "plt.ylabel('Close Price USD($)', fontsize=18)\n",
        "plt.plot(train['Close'])\n",
        "plt.plot(valid[['Close','Prediction']])\n",
        "plt.legend(['Train','Val','Prediction'], loc='lower right')\n",
        "plt.show()"
      ],
      "execution_count": 23,
      "outputs": [
        {
          "output_type": "display_data",
          "data": {
            "image/png": "[encoded data removed]",
            "text/plain": [
              "<Figure size 1152x576 with 1 Axes>"
            ]
          },
          "metadata": {
            "tags": [],
            "needs_background": "light"
          }
        }
      ]
    },
    {
      "cell_type": "code",
      "metadata": {
        "colab": {
          "base_uri": "https://localhost:8080/",
          "height": 1000
        },
        "id": "q7oCjtKe0Np9",
        "outputId": "e2016a85-e61b-4484-c361-4e6cdc36ee2d"
      },
      "source": [
        "valid"
      ],
      "execution_count": 24,
      "outputs": [
        {
          "output_type": "execute_result",
          "data": {
            "text/html": [
              "<div>\n",
              "<style scoped>\n",
              "    .dataframe tbody tr th:only-of-type {\n",
              "        vertical-align: middle;\n",
              "    }\n",
              "\n",
              "    .dataframe tbody tr th {\n",
              "        vertical-align: top;\n",
              "    }\n",
              "\n",
              "    .dataframe thead th {\n",
              "        text-align: right;\n",
              "    }\n",
              "</style>\n",
              "<table border=\"1\" class=\"dataframe\">\n",
              "  <thead>\n",
              "    <tr style=\"text-align: right;\">\n",
              "      <th></th>\n",
              "      <th>Close</th>\n",
              "      <th>Prediction</th>\n",
              "      <th>Error Precentage</th>\n",
              "    </tr>\n",
              "    <tr>\n",
              "      <th>Date</th>\n",
              "      <th></th>\n",
              "      <th></th>\n",
              "      <th></th>\n",
              "    </tr>\n",
              "  </thead>\n",
              "  <tbody>\n",
              "    <tr>\n",
              "      <th>2021-01-04</th>\n",
              "      <td>166.800003</td>\n",
              "      <td>162.952728</td>\n",
              "      <td>2.306520</td>\n",
              "    </tr>\n",
              "    <tr>\n",
              "      <th>2021-01-05</th>\n",
              "      <td>166.949997</td>\n",
              "      <td>163.784485</td>\n",
              "      <td>1.896084</td>\n",
              "    </tr>\n",
              "    <tr>\n",
              "      <th>2021-01-06</th>\n",
              "      <td>166.699997</td>\n",
              "      <td>164.389877</td>\n",
              "      <td>1.385795</td>\n",
              "    </tr>\n",
              "    <tr>\n",
              "      <th>2021-01-07</th>\n",
              "      <td>168.350006</td>\n",
              "      <td>164.742661</td>\n",
              "      <td>2.142765</td>\n",
              "    </tr>\n",
              "    <tr>\n",
              "      <th>2021-01-08</th>\n",
              "      <td>166.449997</td>\n",
              "      <td>165.205750</td>\n",
              "      <td>0.747520</td>\n",
              "    </tr>\n",
              "    <tr>\n",
              "      <th>2021-01-11</th>\n",
              "      <td>168.750000</td>\n",
              "      <td>165.294281</td>\n",
              "      <td>2.047833</td>\n",
              "    </tr>\n",
              "    <tr>\n",
              "      <th>2021-01-12</th>\n",
              "      <td>174.550003</td>\n",
              "      <td>165.612305</td>\n",
              "      <td>5.120423</td>\n",
              "    </tr>\n",
              "    <tr>\n",
              "      <th>2021-01-13</th>\n",
              "      <td>180.550003</td>\n",
              "      <td>166.958435</td>\n",
              "      <td>7.527869</td>\n",
              "    </tr>\n",
              "    <tr>\n",
              "      <th>2021-01-14</th>\n",
              "      <td>180.399994</td>\n",
              "      <td>169.518143</td>\n",
              "      <td>6.032068</td>\n",
              "    </tr>\n",
              "    <tr>\n",
              "      <th>2021-01-15</th>\n",
              "      <td>176.250000</td>\n",
              "      <td>172.085098</td>\n",
              "      <td>2.363065</td>\n",
              "    </tr>\n",
              "    <tr>\n",
              "      <th>2021-01-18</th>\n",
              "      <td>170.149994</td>\n",
              "      <td>173.470276</td>\n",
              "      <td>-1.951385</td>\n",
              "    </tr>\n",
              "    <tr>\n",
              "      <th>2021-01-19</th>\n",
              "      <td>174.050003</td>\n",
              "      <td>173.060394</td>\n",
              "      <td>0.568577</td>\n",
              "    </tr>\n",
              "    <tr>\n",
              "      <th>2021-01-20</th>\n",
              "      <td>173.550003</td>\n",
              "      <td>172.681412</td>\n",
              "      <td>0.500485</td>\n",
              "    </tr>\n",
              "    <tr>\n",
              "      <th>2021-01-21</th>\n",
              "      <td>173.850006</td>\n",
              "      <td>172.261200</td>\n",
              "      <td>0.913895</td>\n",
              "    </tr>\n",
              "    <tr>\n",
              "      <th>2021-01-22</th>\n",
              "      <td>171.550003</td>\n",
              "      <td>171.951508</td>\n",
              "      <td>-0.234045</td>\n",
              "    </tr>\n",
              "    <tr>\n",
              "      <th>2021-01-25</th>\n",
              "      <td>163.750000</td>\n",
              "      <td>171.340820</td>\n",
              "      <td>-4.635615</td>\n",
              "    </tr>\n",
              "    <tr>\n",
              "      <th>2021-01-27</th>\n",
              "      <td>162.100006</td>\n",
              "      <td>169.375549</td>\n",
              "      <td>-4.488305</td>\n",
              "    </tr>\n",
              "    <tr>\n",
              "      <th>2021-01-28</th>\n",
              "      <td>152.600006</td>\n",
              "      <td>166.959610</td>\n",
              "      <td>-9.409963</td>\n",
              "    </tr>\n",
              "    <tr>\n",
              "      <th>2021-01-29</th>\n",
              "      <td>150.100006</td>\n",
              "      <td>163.176392</td>\n",
              "      <td>-8.711782</td>\n",
              "    </tr>\n",
              "    <tr>\n",
              "      <th>2021-02-01</th>\n",
              "      <td>152.050003</td>\n",
              "      <td>159.130066</td>\n",
              "      <td>-4.656404</td>\n",
              "    </tr>\n",
              "    <tr>\n",
              "      <th>2021-02-02</th>\n",
              "      <td>150.949997</td>\n",
              "      <td>156.028244</td>\n",
              "      <td>-3.364192</td>\n",
              "    </tr>\n",
              "    <tr>\n",
              "      <th>2021-02-03</th>\n",
              "      <td>150.800003</td>\n",
              "      <td>153.686081</td>\n",
              "      <td>-1.913845</td>\n",
              "    </tr>\n",
              "    <tr>\n",
              "      <th>2021-02-04</th>\n",
              "      <td>158.850006</td>\n",
              "      <td>152.069443</td>\n",
              "      <td>4.268532</td>\n",
              "    </tr>\n",
              "    <tr>\n",
              "      <th>2021-02-05</th>\n",
              "      <td>166.750000</td>\n",
              "      <td>152.391571</td>\n",
              "      <td>8.610752</td>\n",
              "    </tr>\n",
              "    <tr>\n",
              "      <th>2021-02-08</th>\n",
              "      <td>164.399994</td>\n",
              "      <td>154.793991</td>\n",
              "      <td>5.843068</td>\n",
              "    </tr>\n",
              "    <tr>\n",
              "      <th>2021-02-09</th>\n",
              "      <td>165.699997</td>\n",
              "      <td>157.261261</td>\n",
              "      <td>5.092780</td>\n",
              "    </tr>\n",
              "    <tr>\n",
              "      <th>2021-02-10</th>\n",
              "      <td>165.000000</td>\n",
              "      <td>159.564194</td>\n",
              "      <td>3.294428</td>\n",
              "    </tr>\n",
              "    <tr>\n",
              "      <th>2021-02-11</th>\n",
              "      <td>167.850006</td>\n",
              "      <td>161.266129</td>\n",
              "      <td>3.922477</td>\n",
              "    </tr>\n",
              "    <tr>\n",
              "      <th>2021-02-12</th>\n",
              "      <td>166.449997</td>\n",
              "      <td>162.894730</td>\n",
              "      <td>2.135937</td>\n",
              "    </tr>\n",
              "    <tr>\n",
              "      <th>2021-02-15</th>\n",
              "      <td>166.899994</td>\n",
              "      <td>163.939346</td>\n",
              "      <td>1.773905</td>\n",
              "    </tr>\n",
              "    <tr>\n",
              "      <th>2021-02-16</th>\n",
              "      <td>164.850006</td>\n",
              "      <td>164.623840</td>\n",
              "      <td>0.137195</td>\n",
              "    </tr>\n",
              "    <tr>\n",
              "      <th>2021-02-17</th>\n",
              "      <td>162.250000</td>\n",
              "      <td>164.668045</td>\n",
              "      <td>-1.490321</td>\n",
              "    </tr>\n",
              "    <tr>\n",
              "      <th>2021-02-18</th>\n",
              "      <td>163.699997</td>\n",
              "      <td>163.988815</td>\n",
              "      <td>-0.176431</td>\n",
              "    </tr>\n",
              "    <tr>\n",
              "      <th>2021-02-19</th>\n",
              "      <td>166.000000</td>\n",
              "      <td>163.376373</td>\n",
              "      <td>1.580498</td>\n",
              "    </tr>\n",
              "    <tr>\n",
              "      <th>2021-02-22</th>\n",
              "      <td>166.500000</td>\n",
              "      <td>163.279251</td>\n",
              "      <td>1.934384</td>\n",
              "    </tr>\n",
              "    <tr>\n",
              "      <th>2021-02-23</th>\n",
              "      <td>168.399994</td>\n",
              "      <td>163.490295</td>\n",
              "      <td>2.915498</td>\n",
              "    </tr>\n",
              "    <tr>\n",
              "      <th>2021-02-24</th>\n",
              "      <td>179.250000</td>\n",
              "      <td>164.120285</td>\n",
              "      <td>8.440566</td>\n",
              "    </tr>\n",
              "    <tr>\n",
              "      <th>2021-02-25</th>\n",
              "      <td>182.350006</td>\n",
              "      <td>166.682877</td>\n",
              "      <td>8.591790</td>\n",
              "    </tr>\n",
              "    <tr>\n",
              "      <th>2021-02-26</th>\n",
              "      <td>183.600006</td>\n",
              "      <td>170.108521</td>\n",
              "      <td>7.348303</td>\n",
              "    </tr>\n",
              "  </tbody>\n",
              "</table>\n",
              "</div>"
            ],
            "text/plain": [
              "                 Close  Prediction  Error Precentage\n",
              "Date                                                \n",
              "2021-01-04  166.800003  162.952728          2.306520\n",
              "2021-01-05  166.949997  163.784485          1.896084\n",
              "2021-01-06  166.699997  164.389877          1.385795\n",
              "2021-01-07  168.350006  164.742661          2.142765\n",
              "2021-01-08  166.449997  165.205750          0.747520\n",
              "2021-01-11  168.750000  165.294281          2.047833\n",
              "2021-01-12  174.550003  165.612305          5.120423\n",
              "2021-01-13  180.550003  166.958435          7.527869\n",
              "2021-01-14  180.399994  169.518143          6.032068\n",
              "2021-01-15  176.250000  172.085098          2.363065\n",
              "2021-01-18  170.149994  173.470276         -1.951385\n",
              "2021-01-19  174.050003  173.060394          0.568577\n",
              "2021-01-20  173.550003  172.681412          0.500485\n",
              "2021-01-21  173.850006  172.261200          0.913895\n",
              "2021-01-22  171.550003  171.951508         -0.234045\n",
              "2021-01-25  163.750000  171.340820         -4.635615\n",
              "2021-01-27  162.100006  169.375549         -4.488305\n",
              "2021-01-28  152.600006  166.959610         -9.409963\n",
              "2021-01-29  150.100006  163.176392         -8.711782\n",
              "2021-02-01  152.050003  159.130066         -4.656404\n",
              "2021-02-02  150.949997  156.028244         -3.364192\n",
              "2021-02-03  150.800003  153.686081         -1.913845\n",
              "2021-02-04  158.850006  152.069443          4.268532\n",
              "2021-02-05  166.750000  152.391571          8.610752\n",
              "2021-02-08  164.399994  154.793991          5.843068\n",
              "2021-02-09  165.699997  157.261261          5.092780\n",
              "2021-02-10  165.000000  159.564194          3.294428\n",
              "2021-02-11  167.850006  161.266129          3.922477\n",
              "2021-02-12  166.449997  162.894730          2.135937\n",
              "2021-02-15  166.899994  163.939346          1.773905\n",
              "2021-02-16  164.850006  164.623840          0.137195\n",
              "2021-02-17  162.250000  164.668045         -1.490321\n",
              "2021-02-18  163.699997  163.988815         -0.176431\n",
              "2021-02-19  166.000000  163.376373          1.580498\n",
              "2021-02-22  166.500000  163.279251          1.934384\n",
              "2021-02-23  168.399994  163.490295          2.915498\n",
              "2021-02-24  179.250000  164.120285          8.440566\n",
              "2021-02-25  182.350006  166.682877          8.591790\n",
              "2021-02-26  183.600006  170.108521          7.348303"
            ]
          },
          "metadata": {
            "tags": []
          },
          "execution_count": 24
        }
      ]
    }
  ]
}